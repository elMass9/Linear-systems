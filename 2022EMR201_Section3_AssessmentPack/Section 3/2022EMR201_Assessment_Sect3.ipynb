{
 "cells": [
  {
   "cell_type": "markdown",
   "metadata": {
    "id": "oZCRteBmS-Hv"
   },
   "source": [
    "# EMR 101 - Assessment Section 3\n",
    "\n",
    "    \n",
    "##  Tutorial Content\n",
    "\n",
    "\n",
    "\n",
    "1. [Tutorial Questions](#tut) (10 marks)\n",
    "\n",
    "    1.1. [Question 1](#q_1_1)\n",
    "    \n",
    "    1.2. [Question 2](#q_1_2)\n",
    "    \n",
    "    1.3. [Question 3](#q_1_3)\n",
    "    \n",
    "    1.4. [Question 4](#q_1_4)\n",
    "    \n",
    "    1.5. [Question 5](#q_1_5)\n",
    "    \n",
    "    1.6. [Question 6](#q_1_6)\n",
    "    \n",
    "    1.7. [Question 7](#q_1_7)\n",
    "    \n",
    "    1.8. [Question 8](#q_1_8)\n",
    "    \n",
    "    1.9. [Question 9](#q_1_9)\n",
    "    \n",
    "    1.10. [Question 10](#q_1_10)\n",
    "    \n",
    "    \n",
    "2. [Assignment](#ass) (20 marks)\n",
    "\n",
    "    2.1. [Question 1](#q_2_1)\n",
    "    \n",
    "    2.2. [Question 2](#q_2_2)\n",
    "    \n",
    "    2.3. [Question 3](#q_2_3)\n",
    "    \n",
    "    2.4. [Question 4](#q_2_4)  "
   ]
  },
  {
   "cell_type": "markdown",
   "metadata": {
    "id": "n-zvcV0JXovg"
   },
   "source": [
    "## 1. Tutorial Questions (10 marks) <a id='tut'></a>\n",
    "\n",
    "Complete the tutorial in the given Excel document.\n",
    "\n",
    "> **Please note:**\n",
    "> -Enter only the answer letter into the tutorial sheet."
   ]
  },
  {
   "cell_type": "markdown",
   "metadata": {
    "id": "1hlZnEBT8Cgb"
   },
   "source": [
    "MEMO: Correct answer marked with a star"
   ]
  },
  {
   "cell_type": "markdown",
   "metadata": {
    "id": "Gu1J-CUHe7L8"
   },
   "source": [
    "### 1.1. Question 1<a id=\"q_1_1\"></a>\n",
    "Which package provides useful modules for large data analysis and data processing? \\\\\n",
    "a) NumPy \\\\\n",
    "*b) Pandas \\\\\n",
    "c) Matplotlib \\\\\n",
    "d) Tensorflow \\\\\n"
   ]
  },
  {
   "cell_type": "code",
   "execution_count": null,
   "metadata": {},
   "outputs": [],
   "source": []
  },
  {
   "cell_type": "markdown",
   "metadata": {
    "id": "sAO2y6Ty3xgv"
   },
   "source": [
    "### 1.2. Question 2 <a id=\"q_1_2\"></a>\n",
    "What would the following code print? \\\\\n"
   ]
  },
  {
   "cell_type": "code",
   "execution_count": 2,
   "metadata": {
    "id": "j8UhK3nX5JFY"
   },
   "outputs": [
    {
     "name": "stdout",
     "output_type": "stream",
     "text": [
      "None\n"
     ]
    }
   ],
   "source": [
    "def petAge(yearBorn, yearNow = 2022):\n",
    "  calc = yearBorn -  yearNow \n",
    "\n",
    "print(petAge(2015))"
   ]
  },
  {
   "cell_type": "markdown",
   "metadata": {
    "id": "3w3mu5AP5IAD"
   },
   "source": [
    "a) 12 \\\\\n",
    "b) Error \\\\\n",
    "*c) Nothing  \\\\\n",
    "d) -12 \\\\"
   ]
  },
  {
   "cell_type": "code",
   "execution_count": null,
   "metadata": {},
   "outputs": [],
   "source": []
  },
  {
   "cell_type": "markdown",
   "metadata": {
    "id": "Mu4OR9Kr6AW7"
   },
   "source": [
    "### 1.3. Question 3 <a id=\"q_1_3\"></a>\n",
    "What should the import statement be to calculate e<sup>x</sup> by simply calling `exp(x)`  ? \\\\\n",
    "a) import numpy as np \\\\\n",
    "b) import exp \\\\\n",
    "c)  import numpy as np.exp \\\\\n",
    "*d) from numpy import exp \\\\"
   ]
  },
  {
   "cell_type": "markdown",
   "metadata": {
    "id": "2mIB22OJ8RI7"
   },
   "source": [
    "### 1.4. Question 4 <a id=\"q_1_4\"></a>\n",
    "What is the name of the default package manager for Anaconda? \\\\\n",
    "a) pip \\\\\n",
    "*b) conda \\\\\n",
    "c)  conan \\\\\n",
    "d) apt \\\\"
   ]
  },
  {
   "cell_type": "markdown",
   "metadata": {
    "id": "756kexp787qU"
   },
   "source": [
    "### 1.5. Question 5 <a id=\"q_1_5\"></a>\n",
    "What does the following line of code open a file to do? ```' open(\"temp.txt\",\"r+\")```\n",
    "\n",
    "a) read only \\\\\n",
    "b)  write only \\\\\n",
    "*c)  read and write  \\\\\n",
    "d) The file won't open \\\\"
   ]
  },
  {
   "cell_type": "markdown",
   "metadata": {
    "id": "5Nyy9D7NZnYJ"
   },
   "source": [
    "### 1.6. Question 6 <a id=\"q_1_6\"></a>\n",
    "\n",
    "You want to create an vector of time values from 0 to 1 s with stepsize of 0.1 s. Which of the following functions will achieve this?\n",
    "\n",
    "*a)  `np.arange(0,1, 0.1`) \\\\\n",
    "b)  `np.linspace(0,1, 0.1)` \\\\\n",
    "c)  ` np.linspace(0,0.1,100) ` \\\\\n",
    "d)  `np.arange(0,1,100)` \\\\"
   ]
  },
  {
   "cell_type": "markdown",
   "metadata": {
    "id": "Ks87rOu0APCE"
   },
   "source": [
    "### 1.7. Question 7 <a id=\"q_1_7\"></a>\n",
    "Which of the following code snippets will print the entire 4th column of a 10x10 matrix, A? \\\\\n",
    "\n",
    "a) `print(A[:,4])` \\\\\n",
    "b)` print(A[4,:])` \\\\\n",
    "*c)  `print(A[3,:])` \\\\\n",
    "d) `print(A[:,3])` \\\\"
   ]
  },
  {
   "cell_type": "markdown",
   "metadata": {
    "id": "dJQ2P6jgBT48"
   },
   "source": [
    "### 1.8. Question 8 <a id=\"q_1_8\"></a>\n",
    "When plotting a function using matplotlib, which of the following functions will plot two arrays, Y1 and Y2, with the same x axis, X on the same plot.  \\\\\n",
    "a) `plt.plot(x, Y1, Y2)` \\\\\n",
    "b)  `plt.plot(x = x, Y = Y1, Y2`) \\\\\n",
    "c) \n",
    "\n",
    "```\n",
    "plt.plot(x)\n",
    "plt.plot(Y1)\n",
    "plt.plot(Y2)\n",
    "``` \n",
    "\n",
    "*d)  \n",
    "\n",
    "```\n",
    "plt.plot(X, Y1)\n",
    "plt.plot(X, Y2)\n",
    "```\n",
    "\n",
    " "
   ]
  },
  {
   "cell_type": "markdown",
   "metadata": {
    "id": "mkp_uHfPBdFr"
   },
   "source": [
    "### 1.9.  Question 9 <a id=\"q_1_9\"></a>\n",
    " When plotting a function with matplotlib which of the following functions will set the maximum x axis value? \\\\\n",
    "a) `plt.xaxis(min, max`) \\\\\n",
    "b)  `np.xaxis(min, max)` \\\\\n",
    "*c) `plt.xlim(min, max)`  \\\\\n",
    "d)  `np.xlim(min, max)` \\\\"
   ]
  },
  {
   "cell_type": "markdown",
   "metadata": {
    "id": "OjXVSEaYEGzs"
   },
   "source": [
    "### 1.10. Question 10 <a id=\"q_1_10\"></a>\n",
    " What option can be used to splice a 10x10 matrix, A, into a smaller 5x2 matrix, B, where B contains the first 5 rows and first 2 columns of A. \\\\\n",
    "a)  `B = A[0:5, 0:3]` \\\\\n",
    "b)  `B = A(0:5, 0:3`) \\\\\n",
    "c)  `B = A(0:5)(0:3)` \\\\\n",
    "*d)  `B = A[0:5][0:3]`   \\\\"
   ]
  },
  {
   "cell_type": "markdown",
   "metadata": {
    "id": "gj2PqDRwfAbj"
   },
   "source": [
    "## 2. Assignment (20 marks) <a id='ass'></a>\n",
    "\n"
   ]
  },
  {
   "cell_type": "markdown",
   "metadata": {
    "id": "vbVMya-4f22D"
   },
   "source": [
    "### 2.1. Question 1: Pascals Triangle (5 marks)  <a id=\"q_2_1\"></a>"
   ]
  },
  {
   "cell_type": "markdown",
   "metadata": {
    "id": "QeXCIB9hXnPg"
   },
   "source": [
    "Pascal's triangle is a triangular array of binomial coefficients  that arises in probability theory, combinatorics, and algebra. \\\\\n",
    "Each entry in pascal's triangle is the sum of the number above it to the left and the number above it to the right, treating blank entries as zeros. See the example below. Your task is to make a function that generates the number in a given row and column for any base number. The base number is the number at the peak of the triangle. In the example below it is 1.\n",
    "\n",
    "![image.png](data:image/png;base64,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)\n",
    "\n",
    "You must use a programming technique called _recursion_ to do this. Recursion is where a function calls itself. An example is provided below:\n",
    "\n",
    "    def foo(num: int):\n",
    "       num += 1\n",
    "       if num < 5:\n",
    "           print(num)\n",
    "           foo(num)\n",
    "       else:\n",
    "           print(num)\n",
    "\n",
    "When the function is called for the first time with num = 0, num is then increased to 1. This means that the condition statement is true since 1 < 5. Therefore, num is printed and the function foo is called again with num = 1 now. This process is repeated until num = 5. At that point the condition fails and the final number is printed. "
   ]
  },
  {
   "cell_type": "code",
   "execution_count": null,
   "metadata": {
    "id": "fBvZWwXJXTsk"
   },
   "outputs": [],
   "source": []
  },
  {
   "cell_type": "markdown",
   "metadata": {
    "id": "KI_xUuAJgYaT"
   },
   "source": [
    "### 2.2. Question 2 (6 marks) <a id=\"q_2_2\"></a>\n"
   ]
  },
  {
   "cell_type": "markdown",
   "metadata": {
    "id": "G2_3JMKegaC6"
   },
   "source": [
    "John and Sarah both received payments for doing vacation work. John received R 1000 and Sarah received R 1300. Sarah decided to invest her money using simple interest applied yearly, whereas John decided to invest his money using compound interest compounded yearly. Both invest their money for a period of  20 years.\n",
    "\n",
    "You are interested in finding the difference between the two investment strategies for different interest rates, and a visual indication at which point the two investments will be of the same value. \n",
    "\n",
    "The equations for simple interest and compound interest are as follows:\n",
    "\n",
    "**Simple interest:**\n",
    "\n",
    "$$A = P\\left(1 + rt \\right)$$\n",
    "\n",
    "where:\n",
    "\n",
    "*   A = Total Accrued Amount\n",
    "*   P = Principle Amount\n",
    "*   r = Interest rate \n",
    "*   t = Time period\n",
    "\n",
    "**Compound interest:**\n",
    "\n",
    "$$A = P\\left(1 + r\\right)^{t}$$\n",
    "\n",
    "where:\n",
    "\n",
    "*   A = Total Accrued Amount\n",
    "*   P = Principle Amount\n",
    "*   r = Interest rate\n",
    "*   t = Time period\n",
    "\n",
    "**Graph the two investment strategies for a given rate and determine the point at which both strategies return the same amount by graphing the difference between the two.**\n",
    "\n",
    "Q2.2.1) Determine the accrued amount for simple interest for a given period, interest rate and principle value. Return the result in an array.\n",
    "\n",
    "Q2.2.2) Determine the accrued amount for compound interest for a given period, interest rate and principle value. Return the result in an array.\n",
    "\n",
    "Q2.2.3) Determine the absolute difference between the two arrays, simple and compound. Return the result in an array.\n",
    "\n",
    "Q2.2.4) Plot the simple and compount interest, as well as their difference:\n",
    "\n",
    " - Use the variables `simple_interest`, `compound_interest` and `difference` for the interest values and `r` for the interest rates vector.\n",
    " - Simple interest: \n",
    "     - Colour: blue\n",
    "     - Label: \"simple interest (SI)\"\n",
    " - Compound interest:\n",
    "     - Colour: red\n",
    "     - Label: \"compound interest (CI)\"\n",
    " - Difference:\n",
    "     - Colour: green\n",
    "     - Label: \"abs. diff. btn CI and SI\"\n",
    " - Legend location: 9\n",
    " - X axis limits: -1, 21\n",
    " - Y axis limits: 0, 6000\n",
    " - X label: \"Rate\"\n",
    " - Y label: \"Amount (ZAR)\"\n",
    " - Title: \"Graphs of simple interest, compound interest, and their absolute difference, versus rate\"\n",
    " - Grid: On"
   ]
  },
  {
   "cell_type": "code",
   "execution_count": null,
   "metadata": {
    "id": "dZHmPb8fXaUt"
   },
   "outputs": [],
   "source": []
  },
  {
   "cell_type": "markdown",
   "metadata": {
    "id": "GD8rMZm1gbGT"
   },
   "source": [
    "### 2.3. Question 3 : Analysis of an Amplitude Modulated (AM) signal in different domains (time domain and frequency domain). (5 marks) <a id=\"q_2_3\"></a>\n",
    "\n",
    "\n"
   ]
  },
  {
   "cell_type": "markdown",
   "metadata": {
    "id": "mqSbB9nrgcza"
   },
   "source": [
    "\n",
    "Below a simple tone AM signal has been mathematically modelled, you need to analyse this signal in the time domain and the frequency domain. \n",
    "\n",
    "## AM background\n",
    "Tone AM signals consist of two parts. The message signal and the carrier signal. \n",
    "\n",
    "**Message signal:**\n",
    "$$ m(t) = A_m cos(2 \\pi f_m t)$$\n",
    "\n",
    "$A_m$ : Message signal amplitude\n",
    "\n",
    "$f_m$ : Message signal frequency in (Hz)\n",
    "\n",
    "$t$ : Time\n",
    "\n",
    "**Carrier signal:**\n",
    " $$c(t)=A_{c} cos (2 \\pi f_c t)$$\n",
    "\n",
    " $A_c$ : Carrier signal amplitude\n",
    "\n",
    " $f_c$ : Carrier signal frequency \n",
    "\n",
    " $t$ : Time\n",
    "\n",
    " **Amplitude modulated signal:**\n",
    " $$\n",
    "A M(t)=\\left[A_{c}+m(t)\\right] \\cos( 2 \\pi f_c t)\n",
    "$$\n",
    "\n",
    "The figure below illustrates the different signals as described above.\n",
    "\n",
    "![amplitudemodulation.png](data:image/png;base64,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)\n",
    "\n",
    "Note the frequency of the carrier signal is always more than that of the message signal. Also note, that the amplitude of the message signal influences how much the signal is modulated, this is called the modulation index. If you would like to read up more on AM and sampling [click here](https://www.physics-and-radio-electronics.com/blog/amplitude-modulation/) \n",
    "\n",
    "**For this question take the following values as given values**\n",
    "*   $A_m$ is 0.5.\n",
    "*   $A_c$ is 1.\n",
    "*   $f_m$ is 25 Hz.\n",
    "*   $f_c$ is 200 Hz\n",
    "*   $t$ ranges from 0 to 0.1 seconds with a sampling time of 0.001 seconds.\n",
    "*   Tip, where required remember the sampling frequency $F_S= \\frac {1} {sampling time}$ \n",
    "\n",
    "Step 1: Create a figure with six sub plots (stacked 3 plots horizontal and 2 plots vertical) using matplotlib, the first plot contains the time domain plot of the message signal. Make sure the labels contain the units as well. (0.5 Mark)\n",
    "*   Title: \"Time domain\"\n",
    "*   xlabel: \"Time (s)\"\n",
    "*   ylabel: \"Voltage (V)\"\n",
    "*   colour: blue\n",
    "*   Grid: on\n",
    "\n",
    "Step 2: The second plot is the time domain plot of the carrier signal. (0.5 Mark)\n",
    "*   Title: \"Time domain\"\n",
    "*   xlabel: \"Time (s)\"\n",
    "*   ylabel: \"Voltage (V)\"\n",
    "*   colour: red\n",
    "*   Grid: on\n",
    "\n",
    "Step 3: The third plot is the time domain plot of the AM signal. (1 Mark)\n",
    "*   Title: \"Time domain\"\n",
    "*   xlabel: \"Time (s)\"\n",
    "*   ylabel: \"Voltage (V)\"\n",
    "*   colour: green\n",
    "*   Grid: on\n",
    "\n",
    "Step 4: The fourth plot is the magnitude spectrum of the AM signal on a linear scale. (1 Mark)\n",
    "*   Title: \"Frequency domain, magnitude (linear)\"\n",
    "*   xlabel: \"Frequency (Hz)\"\n",
    "*   ylabel: \"Voltage (V)\"\n",
    "*   colour: magenta\n",
    "*   Grid: on\n",
    "\n",
    "Step 5: The fifth plot is the magnitude spectrum of the AM signal on a logarithmic scale (dB). (1 Mark)\n",
    "*   Title: \"Frequency domain, magnitude (logarithmic)\"\n",
    "*   xlabel: \"Frequency (Hz)\"\n",
    "*   ylabel: \"Voltage (dB)\"\n",
    "*   colour: black\n",
    "*   Grid: on\n",
    "\n",
    "Step 6: The sixth plot is the phase spectrum of the AM signal. (1 Mark)\n",
    "*   Title: \"Frequency domain, phase\"\n",
    "*   xlabel: \"Frequency (Hz)\"\n",
    "*   ylabel: \"Phase (radians)\"\n",
    "*   colour: yellow\n",
    "*   Grid: on\n",
    "\n",
    "*hint: Read the relevant library documentation for matplotlib spectrums and random numbers from numpy.*"
   ]
  },
  {
   "cell_type": "code",
   "execution_count": null,
   "metadata": {
    "id": "3AJuU9hzXfb7"
   },
   "outputs": [],
   "source": []
  },
  {
   "cell_type": "markdown",
   "metadata": {
    "id": "HhedPveegeR0"
   },
   "source": [
    "### 2.4. Question 4 (4 marks) <a id=\"q_2_4\"></a>\n"
   ]
  },
  {
   "cell_type": "markdown",
   "metadata": {
    "id": "cKEt7LGXgzTk"
   },
   "source": [
    "There are an abundance of python libraries at your disposal, capable of many operations that can assist you in your programs. This question will work with the library Seaborn. Seaborn is a Python data visualisation library that is based on matplotlib. This library will assist you in creating beautiful representations of the data you are working with.\n",
    "\n",
    "In this scenario, you were tasked by the University of Pretoria to conduct a survey regarding previous engineering graduates regarding their current salaries and their level of education (BEng, BEng Hons or Masters). You have stored their answers in a csv file called Data2022.csv, in the format.\n",
    "\n",
    "[Degree, Salary, Level], \n",
    "\n",
    "Where Degree is one of the following: \n",
    "\n",
    "[\"Industrial\", \"Chemical\", \"Civil\", \"Electrical\", \"Electronic\", \"Mechanical\", \"Metallurgical\", \"Mining\", \"Computer\"], \n",
    "\n",
    "Salary is their salary and level is one of the following: \n",
    "\n",
    "[BEng, BEng Hons, MEng].\n",
    "\n",
    "Q4.1) Plot a bar chart showing the distribution of the different engineering degrees. Use the following rules: (1 Marks)\n",
    "   * pallete:  viridis\n",
    "   * orient: v\n",
    "   * set the x label to \"Engineering Degrees\"\n",
    "   * set the y label to \"Count\"\n",
    "   * Store the count of each degree in a variable called typeCount (replace type with the degree, for example IndustrialCount, ChemicalCount, etc.)\n",
    "   * Store each of these count variables in a list called types_count, in the same order as listed above (types_count = [IndustrialCount, ChemicalCount, ... , ComputerCount])\n",
    "   * Create a list of the degrees called types_Engineering, and store the degrees in the same order as above (types_Engineering = [\"Industrial\", \"Chemical\", ... , \"Computer\"])\n",
    "\n",
    "*hint: To get the count of a degree, use pandas. (dataset).(Column Heading).value_counts().(Degree name)*\n",
    "\n",
    "*hint: Read the seaborn documentation on barchart*\n",
    "\n",
    "\n",
    "Q4.2) Plot a box plot to show the distribution of the salaries of each type of engineer. Use the following rules: (1 Marks)\n",
    "  * pallete: viridis\n",
    "  * linewidth: 1.5\n",
    "\n",
    "*hint: Read the seaborn documentation on boxplot*\n",
    "\n",
    "Q4.3) Plot a displot of the salary distribution between the different types of engineering with reference to the level of the degree. The x parameter should be the 'Salary' attribute, the column parameter should be the 'Degree' attribute and the row parameter should be the 'Level' attribute. This plot needs to follow these rules: (2 Marks)\n",
    "   * binwidth: 2000\n",
    "   * kde: True\n",
    "   * color: C0\n",
    "   * edgecolor: 0.5\n",
    "   * height: 3\n",
    "   * aspect: 0.75\n",
    "   * facet_kws: dict(margin_titles=True)\n",
    "\n",
    "*hint: Read the seaborn documentation on displot*"
   ]
  },
  {
   "cell_type": "code",
   "execution_count": null,
   "metadata": {
    "id": "XYITG3z3Xi27"
   },
   "outputs": [],
   "source": []
  }
 ],
 "metadata": {
  "colab": {
   "collapsed_sections": [],
   "name": "2022EMR201_Assessment_Sect3_QuestionsOnly_V2.ipynb",
   "provenance": []
  },
  "kernelspec": {
   "display_name": "Python 3.10.3 64-bit",
   "language": "python",
   "name": "python3"
  },
  "language_info": {
   "codemirror_mode": {
    "name": "ipython",
    "version": 3
   },
   "file_extension": ".py",
   "mimetype": "text/x-python",
   "name": "python",
   "nbconvert_exporter": "python",
   "pygments_lexer": "ipython3",
   "version": "3.10.3"
  },
  "vscode": {
   "interpreter": {
    "hash": "1f22cde38bbce48c773340400c436c91a5cb44e5dc2e9204a3c1799731cfdf06"
   }
  }
 },
 "nbformat": 4,
 "nbformat_minor": 1
}
