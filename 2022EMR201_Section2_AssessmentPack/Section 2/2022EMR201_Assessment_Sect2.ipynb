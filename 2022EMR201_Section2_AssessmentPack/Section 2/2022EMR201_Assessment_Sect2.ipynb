{
 "cells": [
  {
   "cell_type": "markdown",
   "metadata": {
    "id": "JT4Af0lrAd25"
   },
   "source": [
    "<img src=\"./EBIT.jpg\" style=\"display: block; margin-left: auto; margin-right: auto; width: 45%;\"></img>\n",
    "\n",
    "# EMR 201 - Assessment Section 2\n",
    "\n",
    "    \n",
    "##  Tutorial Content\n",
    "\n",
    "\n",
    "\n",
    "1. [Tutorial Questions](#tut) (10 marks)\n",
    "\n",
    "    1.1. [Question 1](#q_1_1)\n",
    "    \n",
    "    1.2. [Question 2](#q_1_2)\n",
    "    \n",
    "    1.3. [Question 3](#q_1_3)\n",
    "    \n",
    "    1.4. [Question 4](#q_1_4)\n",
    "    \n",
    "    1.5. [Question 5](#q_1_5)\n",
    "    \n",
    "    1.6. [Question 6](#q_1_6)\n",
    "    \n",
    "    1.7. [Question 7](#q_1_7)\n",
    "    \n",
    "    1.8. [Question 8](#q_1_8)\n",
    "    \n",
    "    1.9. [Question 9](#q_1_9)\n",
    "    \n",
    "    1.10. [Question 10](#q_1_10)\n",
    "    \n",
    "    \n",
    "2. [Assignment](#ass) (10 marks)\n",
    "\n",
    "    2.1. [Question 1](#q_2_1)\n",
    "    \n",
    "    2.2. [Question 2](#q_2_2)\n",
    "    \n",
    "    2.3. [Question 3](#q_2_3)\n",
    "  "
   ]
  },
  {
   "cell_type": "markdown",
   "metadata": {
    "id": "FEeRewnJAd2-"
   },
   "source": [
    "***"
   ]
  },
  {
   "cell_type": "markdown",
   "metadata": {
    "id": "snoeoXb5Ad2_"
   },
   "source": [
    "## 1. Tutorial Questions (10 marks) <a id='tut'></a>\n",
    "\n",
    "Complete the tutorial in the given Excel document.\n",
    "\n",
    "> **Please note:**\n",
    "> - For multiple choice questions, enter only the answer number/letter.\n",
    "> - For True/False questions, enter only **TRUE** or **FALSE**.\n",
    "\n"
   ]
  },
  {
   "cell_type": "markdown",
   "metadata": {
    "id": "p7cXISllAd2_"
   },
   "source": [
    "### 1.1. Question 1 <a id=\"q_1_1\"></a>\n",
    "\n",
    "**Whhich method(s) form part of the visualisation of the logical flow of a problem?**\n",
    "\n",
    "a. Flow diagram\n",
    "\n",
    "b. Pseudocode\n",
    "\n",
    "c. Problem identification\n",
    "\n",
    "d. Only a and b\n",
    "\n",
    "e. Only a and c\n"
   ]
  },
  {
   "cell_type": "markdown",
   "metadata": {
    "id": "VJuiZI8mAd3A"
   },
   "source": [
    "### 1.2. Question 2 <a id=\"q_1_2\"></a>\n",
    "\n",
    "**True or False: Code lines can only be executed sequentially.**"
   ]
  },
  {
   "cell_type": "markdown",
   "metadata": {
    "id": "tRF9ol5TAd3A"
   },
   "source": [
    "### 1.3. Question 3 <a id=\"q_1_3\"></a>\n",
    "\n",
    "**What does the half oval symbol in a flow diagram represent?**\n",
    "\n",
    "a. Input\n",
    "\n",
    "b. Output\n",
    "\n",
    "c. Process step\n",
    "\n",
    "d. Flow direction\n",
    "\n",
    "e. Delay"
   ]
  },
  {
   "cell_type": "markdown",
   "metadata": {
    "id": "J6o5UK10Ad3B"
   },
   "source": [
    "### 1.4. Question 4 <a id=\"q_1_4\"></a>\n",
    "\n",
    "**True or False: If the select variable (variable used to select a case) in a *bool switch/case* statement is not an integer in Python, your kernel will have a compile error.**"
   ]
  },
  {
   "cell_type": "markdown",
   "metadata": {
    "id": "Baw2A4qVAd3C"
   },
   "source": [
    "### 1.5. Question 5 <a id=\"q_1_5\"></a>\n",
    "\n",
    "**Consider the partial code snippets of a *switch/case* statement below:**\n",
    "\n",
    "W:\n",
    "\n",
    "    switcher={\n",
    "        1:\"True\",\n",
    "        0:\"False\"\n",
    "    }\n",
    "        \n",
    "X:\n",
    "\n",
    "    switcher={\n",
    "        1:\"True\",\n",
    "        0:\"False\",\n",
    "    }\n",
    "\n",
    "Y:\n",
    "\n",
    "    switcher={\n",
    "        0:\"True\";\n",
    "        1:\"False\"\n",
    "    }\n",
    "\n",
    "Z:\n",
    "\n",
    "    switcher={\n",
    "        0:\"True\";\n",
    "        1:\"False\";\n",
    "    }\n",
    "\n",
    "**Select the correct statement:**\n",
    "\n",
    "a) Snippets W, X, Y, and Z are incorrect.\n",
    "\n",
    "b) Snippets W, X, Y, and Z are correct.\n",
    "\n",
    "c) Snippets W, X are correct and Y, Z are incorrect.\n",
    "\n",
    "d) Snippets Y, Z are correct and W, X are incorrect."
   ]
  },
  {
   "cell_type": "markdown",
   "metadata": {
    "id": "fi-HjmadAd3C"
   },
   "source": [
    "### 1.6. Question 6 <a id=\"q_1_6\"></a>\n",
    "\n",
    "\n",
    "**Consider the partial code snippet of a *switch/case* statement below:**\n",
    "\n",
    "    def Char2String(i, s):\n",
    "        switcher={\n",
    "            0:s + \"I\",\n",
    "            1:s + \"you\",\n",
    "            2:s + \"want\",\n",
    "            3:s + \"need\",\n",
    "            4:s + \"do\",\n",
    "            5:s + \"coffee\",\n",
    "            6:s + \"tea\",\n",
    "            7:s + \"milk\",\n",
    "            8:s + \"with\",\n",
    "            9:s + \"without\",\n",
    "            10:s + \"?\",\n",
    "            11:s + \"or\"\n",
    "        }\n",
    "        return switcher.get(i, s + \" \")\n",
    "\n",
    "    a = \"\"\n",
    "    a = Char2String(4, a)\n",
    "    a = Char2String(12, a)\n",
    "    a = Char2String(1, a)\n",
    "    a = Char2String(12, a)\n",
    "    a = Char2String(2, a)\n",
    "    a = Char2String(12, a)\n",
    "    a = Char2String(5, a)\n",
    "    a = Char2String(12, a)\n",
    "    a = Char2String(8, a)\n",
    "    a = Char2String(12, a)\n",
    "    a = Char2String(7, a)\n",
    "    a = Char2String(10, a)\n",
    "    a = Char2String(12, a)\n",
    "    a = Char2String(11, a)\n",
    "    a = Char2String(12, a)\n",
    "    a = Char2String(4, a)\n",
    "    a = Char2String(12, a)\n",
    "    a = Char2String(1, a)\n",
    "    a = Char2String(12, a)\n",
    "    a = Char2String(2, a)\n",
    "    a = Char2String(12, a)\n",
    "    a = Char2String(6, a)\n",
    "    a = Char2String(12, a)\n",
    "    a = Char2String(9, a)\n",
    "    a = Char2String(12, a)\n",
    "    a = Char2String(7, a)\n",
    "    a = Char2String(10, a)\n",
    "    print(a)\n",
    "\n",
    "**What will the print statement be?**"
   ]
  },
  {
   "cell_type": "markdown",
   "metadata": {
    "id": "n0vYjfJZAd3D"
   },
   "source": [
    "### 1.7. Question 7 <a id=\"q_1_7\"></a>\n",
    "\n",
    "**True or False: range(1, 10, 2) is equivalent to [2, 4, 6, 8, 10].**"
   ]
  },
  {
   "cell_type": "markdown",
   "metadata": {
    "id": "iSg-s_6mAd3E"
   },
   "source": [
    "### 1.8. Question 8 <a id=\"q_1_8\"></a>\n",
    "\n",
    "**Consider the partial code snippet of a *for* loop below:**\n",
    "    \n",
    "    array = [\"Our\", \"student\", \"numbers\", \"are\", \"u\"]\n",
    "\n",
    "    for s in array:\n",
    "        for t in range(len(array)):\n",
    "            print(s,\" \",t)\n",
    "\n",
    "**What will the 16th print statement be?**"
   ]
  },
  {
   "cell_type": "markdown",
   "metadata": {
    "id": "b07_WQN6Ad3E"
   },
   "source": [
    "### 1.9. Question 9 <a id=\"q_1_9\"></a>\n",
    "\n",
    "**Consider the partial code snippet of a *while* loop below:**\n",
    "\n",
    "    x = 13\n",
    "    y = 9\n",
    "    count = 0\n",
    "\n",
    "    while counter < x:\n",
    "        if (counter == y):\n",
    "            .....\n",
    "        counter += 1\n",
    "\n",
    "    print(\"The maximum number reached is: %d\" % (counter))\n",
    "\n",
    "**What statement should be used to complete the if statement to ensure that *The maximum number reached is: 13* will be printed?**\n",
    "\n",
    "a. pass\n",
    "\n",
    "b. break\n",
    "\n",
    "c. continue\n"
   ]
  },
  {
   "cell_type": "markdown",
   "metadata": {
    "id": "PSBPEdXWAd3E"
   },
   "source": [
    "### 1.10. Question 10 <a id=\"q_1_10\"></a>\n",
    "\n",
    "**Consider the pseudocode of a self-driving car below:**\n",
    "\n",
    "<pre><code>\n",
    "Overtaking a slower car on the highway\n",
    "Is the lane a solid line?\n",
    "\tYes - keep going straight (done)\n",
    "\tNo - continue\n",
    "Is there a car to the right of your lane?\n",
    "    Yes - keep going straight (done)\n",
    "    No - continue\n",
    "Is the oncoming car more than 10 m away?\n",
    "    Yes - turn right (done)\n",
    "    No - keep going straight (done)\n",
    "</code></pre>\n",
    "\n",
    "**The self-driving car wants to overtake a slower car but is on the furtherst right lane. What does the self-driving car do?**\n",
    "\n",
    "a. Keep going straight\n",
    "\n",
    "b. Turn left\n",
    "\n",
    "c. Turn right\n",
    "\n",
    "d. Stop"
   ]
  },
  {
   "cell_type": "markdown",
   "metadata": {
    "id": "U2JWyeeFAd3F"
   },
   "source": [
    "***"
   ]
  },
  {
   "cell_type": "markdown",
   "metadata": {
    "id": "_POQzqJ0Ad3F"
   },
   "source": [
    "## 2. Assignment (10 marks) <a id='ass'></a>\n",
    "\n",
    "\n",
    "> **Please note:**\n",
    "> - Do NOT rename your Python submission file. Ensure that it stays **a2022EMR201A02_Submission.py**\n",
    "> - To test your code, run the ____\n",
    "\n",
    "A game developer is developing a new game called \"Hatfield disco fighter simulator\". The characters in the game are \"student-heroes\" that need to survive the Hatfield nightlife. Each \"student-hero\" has certain attributes and power-ups that define their survivability. Every power-up is location based and certain \"student-heroes\" will perform better in certain loctions. Based on the \"student-hero\" power-up combined with their inherent attributes, the \"student-hero\" will K.O. or get K.O.ed. WHAM!\n",
    "\n",
    "Student-hero: Fast Frikkie (001):\n",
    "\n",
    "    FAST           SPEED   STRENGTH   ENDURANCE   COURAGE   POWER  FRIKKIE\n",
    "    BASE (UP)      85      70         70          10        10        \n",
    "    LC (SPORT)     90      75         72          5         20\n",
    "    STRIP (JOL)    75      65         30          80        10\n",
    "    FAUZI (EAT)    63      80         60          10        20\n",
    "\n",
    "Student-hero: Weaponsmith Wandile (002):\n",
    "\n",
    "    WEAPONSMITH    SPEED   STRENGTH   ENDURANCE   COURAGE   POWER  WANDILE\n",
    "    BASE (UP)      10      30         10          80        90        \n",
    "    LC (SPORT)     12      45         12          75        90\n",
    "    STRIP (JOL)    30      25         08          95        45\n",
    "    FAUZI (EAT)    90      32         20          80        80\n",
    "\n",
    "Student-hero: Magical Mishka (003):\n",
    "\n",
    "    MAGICAL        SPEED   STRENGTH   ENDURANCE   COURAGE   POWER  MISHKA\n",
    "    BASE (UP)      60      40         30          30        75        \n",
    "    LC (SPORT)     80      50         20          50        70\n",
    "    STRIP (JOL)    70      60         10          50        90\n",
    "    FAUZI (EAT)    55      80         60          10        20\n",
    "\n",
    "\n",
    "\n",
    "The \"student-heroes\" will need to fight a foe at each location. Just like our \"student-heroes\", the enemies have certain attributes:\n",
    "\n",
    "                               SPEED   STRENGTH   ENDURANCE   COURAGE   POWER\n",
    "    Trekker Tirent (SPORT)     80      50         50          20        12\n",
    "    Dodgy Dan (JOL)            04      20         69          66        04\n",
    "    Fat Frank (EAT)            10      80         15          60        55\n"
   ]
  },
  {
   "cell_type": "markdown",
   "metadata": {
    "id": "FP0zLAIRAd3F"
   },
   "source": [
    "### 2.1. Question 1: Determine \"student-hero\" combat statistics (6 marks) <a id=\"q_2_1\"></a>\n",
    "\n",
    "_Hint: Check the comments in the code for tips._\n",
    "\n",
    "#### Q 1.1: Complete the switch/case statement to return the attributes each \"student-hero\" (1 mark)\n",
    "\n",
    "Complete the switch/case statement to return the arrays stored in:\n",
    "\n",
    "- s1 when option 1 is chosen\n",
    "- s2 when option 2 is chosen\n",
    "- s3 when option 3 is chosen\n",
    "- s4 as the default option (No option is chosen)\n",
    "\n",
    "Use the variable _option_ to select from the switch/case. The variable _option_ is of type _int_.\n",
    "\n",
    "#### Q 1.2: Determine the \"student-hero\" name from the hero attribute array (1 mark)\n",
    "\n",
    "Extract \"student-hero\" name from the attribute array. The variable _hero_details_ contains the attributes of the \"student-hero\" and is of type _list_. The hero name is split between indexes 0 and 6. Recombine the name and store it, with a space between the two words, in the variable called _heroname_.\n",
    "\n",
    "#### Q 1.3: Calculate the average ability in each location (2 marks)\n",
    "\n",
    "Use *for loops* to calculate the average ability score for the \"student-hero\" in every location. Each ability has the same weight in the average. The variable _hero_details_ contains the academic record of the student and is of type _list_. Store the final averages of the subjects in an array with the name _averages_ in the following order:\n",
    "\n",
    "    [UP,SPORT,JOL,EAT]\n",
    "\n",
    "_Hint: It is necessary to use typecasting to change the type of the abilities from **string** to **int**._\n",
    "\n",
    "#### Q 1.4: Calculate a rating for the \"student-hero\" in each location (1 mark)\n",
    "\n",
    "Use *if statements* to calculate a rating (bad, average or good) for the student-hero. The ratings are allocated as follow:\n",
    "\n",
    "- bad for [0 to 33)\n",
    "\n",
    "- average for [33 to 66)\n",
    "\n",
    "- good for [66 to 100\\]\n",
    "\n",
    "The variable _averages_ contains the averages of the student-hero abilities per location and is of type _list_. Store the final ratings of the student-hero in an array with the name _hero_rating_ in the following order:\n",
    "\n",
    "    [UP, SPORT, JOL, EAT]\n",
    "\n",
    "_Hint: ( = excluded and [ = included_\n",
    "\n",
    "#### Q 1.5: Show if the student-hero will win against the different baddie dudes based off their hero ratings (1 mark)\n",
    "Using the hero rating, determine if the selected student-hero is likely to win against the different location baddie dudes. The ratings for the baddie dudes are determined and given for you, as this was already tested in Question 1.4. The variable _hero_rating_ contains the ratings of the student-hero as determined in Question 1.4 and is of type _list_. The variable _baddie_rating_ contains the ratings of the baddie dudes (given to you) and is of type _list_. Store the likeliness to win for each baddie (\"not likely\", \"very likely\", \"cannot say\") in the list called _likely_to_win_.\n",
    "\n",
    "    baddie_rating = [\"average\", \"bad\", \"average\"]\n",
    "\n",
    "_Note: There are no baddie dude in your base (UP)!_\n",
    "\n",
    "_Note: How to determine likeliness_\n",
    "- \"very likely\": \"good\" > \"average\" > \"bad\" (if hero has a higher rating)\n",
    "- \"not likely\": \"bad\" < \"average\" < \"good\" (if hero has a lower rating)\n",
    "- \"cannot say\": \"good\" == \"good\" or \"average\" == \"average\" or \"bad\" == \"bad\" (if hero and baddie has the same rating)\n",
    "\n"
   ]
  },
  {
   "cell_type": "markdown",
   "metadata": {
    "id": "JK76T5PxAd3G"
   },
   "source": [
    "### 2.2. Question 2: Should the hero fight? (2 marks) <a id=\"q_2_2\"></a>\n",
    "\n",
    "The \"student-heroes\" needs enough health to attempt a fight. Below is an algorithm to check whether the \"student-hero\" has enough health to attempt the fight. Write your own Python code and return a boolean.\n",
    "<pre><code>\n",
    "Variables: hero_health, enemy_health, potion_inventory\n",
    "Is the student-hero's health less than 50%\n",
    "    YES – Does the student have a health potion? \n",
    "        Yes – Drink the potion and FIGHT (True) \n",
    "        No  – Does the student-hero have more health than the enemy?\n",
    "            Yes – FIGHT! (True)\n",
    "            No  – Don't attempt the fight (False) \n",
    "    NO  – FIGHT! (True)     \n",
    "</pre></code>\n"
   ]
  },
  {
   "cell_type": "markdown",
   "metadata": {
    "id": "bxi5OHSGAd3G"
   },
   "source": [
    "### 2.3. Question 3: Hero figthing simulator (2 marks) <a id=\"q_2_3\"></a>\n",
    "\n",
    "Below is an algorithm for determining the outcome of two game character's moves. The user inputs a key to indicate the movement. Convert the pseudocode into Python code.\n",
    "<pre><code>\n",
    "Variables: hero1_input, hero2_input, hero1_base_strength, hero1_init_health, hero2_base_strength, hero2_init_health\n",
    "Check hero1 input\n",
    "if the hero1 input is \n",
    "    “n” – consume “Nothing”: health and strength at initial and base\n",
    "    \"a\" - consume \"Apple\": increases health by 5% and strength by 10%\n",
    "    \"p\" - consume \"Pie\": increases health by 15% and strength by 15%\n",
    "    \"h\" - consume \"Potion\": increases health by 25% and strength by 2%\n",
    "    Else – same as \"n\"\n",
    "Check hero2 input\n",
    "if the hero2 input is \n",
    "    “n” – consume “Nothing”: health and strength at initial and base\n",
    "    \"a\" - consume \"Apple\": increases health by 5% and strength by 10%\n",
    "    \"p\" - consume \"Pie\": increases health by 15% and strength by 15%\n",
    "    \"h\" - consume \"Potion\": increases health by 25% and strength by 2%\n",
    "    Else – same as \"n\"\n",
    "\n",
    "# The two heroes fight! (Strength subtracts from health)\n",
    "Return the winning hero's final stats in a list as the final move, final strength, final health (after the glorious battle!).\n",
    "\n",
    "#############\n",
    "# EXAMPLE:\n",
    "#############\n",
    "# INPUTS:\n",
    "# hero1_input = \"h\"\n",
    "# hero2_input = \"n\"\n",
    "# hero1_base_strength = 10\n",
    "# hero2_base_strength = 5\n",
    "# hero1_init_health = 20\n",
    "# hero2_init_health = 30\n",
    "\n",
    "# OUPUTS\n",
    "# [\"h\", 10.2, 19.8]\n",
    "</pre></code>\n",
    "\n"
   ]
  }
 ],
 "metadata": {
  "colab": {
   "collapsed_sections": [],
   "name": "2022EMR201_Assessment_Sect2.ipynb",
   "provenance": []
  },
  "kernelspec": {
   "display_name": "Python 3.10.3 64-bit",
   "language": "python",
   "name": "python3"
  },
  "language_info": {
   "codemirror_mode": {
    "name": "ipython",
    "version": 3
   },
   "file_extension": ".py",
   "mimetype": "text/x-python",
   "name": "python",
   "nbconvert_exporter": "python",
   "pygments_lexer": "ipython3",
   "version": "3.10.3"
  },
  "vscode": {
   "interpreter": {
    "hash": "1f22cde38bbce48c773340400c436c91a5cb44e5dc2e9204a3c1799731cfdf06"
   }
  }
 },
 "nbformat": 4,
 "nbformat_minor": 4
}
