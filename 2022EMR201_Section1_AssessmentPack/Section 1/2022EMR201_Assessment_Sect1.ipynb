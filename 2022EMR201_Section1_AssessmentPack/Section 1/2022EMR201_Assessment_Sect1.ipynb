{
 "cells": [
  {
   "cell_type": "markdown",
   "metadata": {
    "id": "wZ-F9AFrPxpD"
   },
   "source": [
    "<img src=\"EBIT.jpg\" style=\"display: block; margin-left: auto; margin-right: auto; width: 45%;\"></img>\n",
    "\n",
    "# EMR 201 - Assessment Section 1\n",
    "\n",
    "    \n",
    "##  Tutorial Content\n",
    "\n",
    "\n",
    "\n",
    "1. [Tutorial Questions](#tut) (10 marks)\n",
    "\n",
    "    1.1. [Question 1](#q_1_1)\n",
    "    \n",
    "    1.2. [Question 2](#q_1_2)\n",
    "    \n",
    "    1.3. [Question 3](#q_1_3)\n",
    "    \n",
    "    1.4. [Question 4](#q_1_4)\n",
    "    \n",
    "    1.5. [Question 5](#q_1_5)\n",
    "    \n",
    "    1.6. [Question 6](#q_1_6)\n",
    "    \n",
    "    1.7. [Question 7](#q_1_7)\n",
    "    \n",
    "    1.8. [Question 8](#q_1_8)\n",
    "    \n",
    "    1.9. [Question 9](#q_1_9)\n",
    "    \n",
    "    1.10. [Question 10](#q_1_10)\n",
    "    \n",
    "    \n",
    "2. [Assignment](#ass) (32 marks)\n",
    "\n",
    "    2.1. [Question 1](#q_2_1)\n",
    "    \n",
    "    2.2. [Question 2](#q_2_2)\n",
    "    \n",
    "    2.3. [Question 3](#q_2_3)\n"
   ]
  },
  {
   "cell_type": "markdown",
   "metadata": {},
   "source": [
    "***"
   ]
  },
  {
   "cell_type": "markdown",
   "metadata": {
    "id": "fsG7xGf9PxpD"
   },
   "source": [
    "## 1. Tutorial Questions (10 marks) <a id='tut'></a>\n",
    "\n",
    "Complete the tutorial in the given Excel document.\n",
    "\n",
    "> **Please note:**\n",
    "> - For multiple choice questions, enter only the answer number/letter.\n",
    "> - For True/False questions, enter only **TRUE** or **FALSE**.\n"
   ]
  },
  {
   "cell_type": "markdown",
   "metadata": {
    "id": "JqA004xpPxpD"
   },
   "source": [
    "### 1.1. Question 1 <a id=\"q_1_1\"></a>\n",
    "\n",
    "**What is a programming algorithm?**\n",
    "\n",
    "a. A list of steps, flowcharts or pseudocode\n",
    "\n",
    "b. Sequence of instructions that describes how a computer should solve a problem\n",
    "\n",
    "c. Define clear inputs and outputs with clear steps and logical structure and flow\n",
    "\n",
    "d. All the above\n"
   ]
  },
  {
   "cell_type": "markdown",
   "metadata": {
    "id": "nOEEs5ZaPxpD"
   },
   "source": [
    "### 1.2. Question 2 <a id=\"q_1_2\"></a>\n",
    "\n",
    "**What is classified as computer software?**\n",
    "\n",
    "a. A complete code descriptive report\n",
    "\n",
    "b. Collection of instructions and functions that perform tasks when executed\n",
    "\n",
    "c. A group of computer programs, with relevant libraries and data     \n",
    "\n",
    "d. b and c\n",
    "\n",
    "e. All the above\n"
   ]
  },
  {
   "cell_type": "markdown",
   "metadata": {
    "id": "XKKrqRmXPxpE"
   },
   "source": [
    "### 1.3. Question 3 <a id=\"q_1_3\"></a>\n",
    "\n",
    "**True or False:** Control charachter **\\b:** means  backslash."
   ]
  },
  {
   "cell_type": "markdown",
   "metadata": {
    "id": "WZhGBccLPxpE"
   },
   "source": [
    "### 1.4. Question 4 <a id=\"q_1_4\"></a>\n",
    "\n",
    "**True or False:** Comments in Python are made by placing a **\"#\"** where the comment begins."
   ]
  },
  {
   "cell_type": "markdown",
   "metadata": {
    "id": "BQpOgCmwPxpE"
   },
   "source": [
    "### 1.5. Question 5 <a id=\"q_1_5\"></a>\n",
    "\n",
    "**How are variable names in Python defined?**\n",
    "\n",
    "a. Can be only 10 characters length\n",
    "\n",
    "b. Can be any length\n",
    "\n",
    "c. Are case sensitive\n",
    "\n",
    "d. Can not contain digits\n",
    "\n",
    "e. b and c\n",
    "\n",
    "c. a, c, and d"
   ]
  },
  {
   "cell_type": "markdown",
   "metadata": {
    "id": "drch_N7oPxpE"
   },
   "source": [
    "### 1.6. Question 6 <a id=\"q_1_6\"></a>\n",
    "\n",
    "**Which arthmetic opperation is defined as a\\*b?**\n",
    "\n",
    "a. Exponentiation\n",
    "\n",
    "b. Multiplication\n",
    "\n",
    "c. Division\n"
   ]
  },
  {
   "cell_type": "markdown",
   "metadata": {
    "id": "cWfUnt5rPxpE"
   },
   "source": [
    "### 1.7. Question 7 <a id=\"q_1_7\"></a>\n",
    "\n",
    "**Which of following are Comparison operators?**\n",
    "\n",
    "a. <, -, >, +, \n",
    "\n",
    "b. <=, =>, <, !=, >, == \n",
    "\n",
    "c. ==, <=, <<,  >>, \n"
   ]
  },
  {
   "cell_type": "markdown",
   "metadata": {
    "id": "Iwa31TA7PxpE"
   },
   "source": [
    "### 1.8. Question 8 <a id=\"q_1_8\"></a>\n",
    "\n",
    "**What would the output of the following line of code be:**\n",
    "    **sequence[start:end:step]?**\n",
    "    \n",
    "a. extracts a slice starting at index start up to, but excluding, end.\n",
    "\n",
    "b. returns a single element at index start\n",
    "\n",
    "c. returns a sequence with the values at the indices in the specified range, but separated by step \n"
   ]
  },
  {
   "cell_type": "markdown",
   "metadata": {
    "id": "xxJciadmPxpE"
   },
   "source": [
    "### 1.9. Question 9 <a id=\"q_1_9\"></a>\n",
    "\n",
    "**Array has following entries: [10,2,5,6,7]. What would the output of the following line of code be?**\n",
    "\n",
    "``` python\n",
    "        b = 1\n",
    "\t\tprint(Arr[b])\n",
    "    \n",
    "```\n",
    "\n",
    "a. 10\n",
    "\n",
    "b. 7\n",
    "\n",
    "c. 2   \n",
    "\n",
    "d. 6\n",
    "\n",
    "e. 5"
   ]
  },
  {
   "cell_type": "markdown",
   "metadata": {
    "id": "YmSOi72IPxpE"
   },
   "source": [
    "### 1.10. Question 10 <a id=\"q_1_10\"></a>\n",
    "\n",
    "**Which one of the following apply for arrays?**\n",
    "\n",
    "a. Arrays have to be declared before assignment\n",
    "\n",
    "b. Arrays can be indexed and can store any datatype\n",
    "\n",
    "c. Numeric operation can not be performed on arrays, but can be porformed on lists\n",
    "\n",
    "d. Lists store data more efficiently and compactly than Arrays\n",
    "\n",
    "e. a and b \n",
    "\n",
    "f. All the above\n"
   ]
  },
  {
   "cell_type": "markdown",
   "metadata": {},
   "source": [
    "***"
   ]
  },
  {
   "cell_type": "markdown",
   "metadata": {
    "id": "EjTr2IEIPxpE"
   },
   "source": [
    "## 2. Assignment (32 marks) <a id='ass'></a>\n",
    "\n",
    "### Email Question\n",
    "\n",
    "During the lockdown period, the EECE Department appointed an Inventory Manager to manage and distribute second hand components from the Electronic Component Initiative (ECI) to students in need. The Ineventory Manager received the following email:\n",
    "\n",
    "```\n",
    "From: u87654321@tuks.co.za\n",
    "\n",
    "To : inventory.manager@up.ac.za\n",
    "\n",
    "Dear Inventory Manager,\n",
    "\n",
    "I have a practical assignment in which I have to design a simple RL Filter. I require the following components for my electronics kit. Could you kindly check whether you have them in stock? \n",
    "\n",
    "- 5x 360 Ohm resistors \n",
    "- 4x Green LEDs\n",
    "- 2x minimum resistance potentiometers\n",
    "- 3x maximum resistance potentiometers\n",
    "- 25x Jumper wires\n",
    "- A 3 V rechargeable Alkaline battery\n",
    "\n",
    "May I request that you ship all available components from the list above to the following address: \n",
    "25 Simon Avenue, Brooklyn, Pretoria.\n",
    "\n",
    "I would also appreciate some guidance regarding which inductor I should use, as I am not sure how to calculate the required value. If I use your minimum resistor value, what value inductor should I use to achieve a high-pass cut-off frequency of 5000 Hz? Would you be able to also give me one of these minimum value resistors to use in my filter?\n",
    "\n",
    "Thank you in advance for your time and trouble.\n",
    "\n",
    "Kind regards,\n",
    "\n",
    "John Doe\n",
    "```\n",
    "\n",
    "The component inventory is stored in a dictionary in the file emr201.py, which is provided. The following questions are all based on the email and the data in the dictionary, with the aim to generate a response email for the student."
   ]
  },
  {
   "cell_type": "markdown",
   "metadata": {
    "id": "9oPCDl58PxpE"
   },
   "source": [
    "### Question 1: Creating Variables and Population of Variables <a id=\"q_2_1\"></a>\n",
    "\n",
    "_Hint: Check the comments in the code for tips._\n",
    "\n",
    "#### Q 1.1.: Create and Assign Variables for Personal Details (2 marks)\n",
    "\n",
    "Create an interface which allows the inventory manager to enter the required details from the student email in variables. The required data are:\n",
    "\n",
    "- name (String),\n",
    "- surname (String),\n",
    "- student_number (Integer, do not include the ‘u’),\n",
    "- delivery_required (Boolean),\n",
    "- delivery_address (String).\n",
    "\n",
    "Create a list with the name __personal_details__ (case sensitive) containing the variables listed above. The order of the list entries should be:\n",
    "\n",
    "    [name, surname, student_number, delivery_required, delivery_address].\n",
    "    \n",
    "#### Q 1.2: Create and Assign Variables for Requested Components (3 marks)\n",
    "\n",
    "Create and populate variables containing the information regarding the components needed by the student. The required data are:\n",
    "\n",
    "- resistance (Integer),\n",
    "- number_of_resistors (Integer),\n",
    "- led_colour (String),\n",
    "- number_of_leds (Integer),\n",
    "- number_of_min_pots (Integer),\n",
    "- number_of_max_pots (Integer),\n",
    "- number_of_jumpers_needed (Integer),\n",
    "- battery_voltage (String),\n",
    "- battery_charge_type (String),\n",
    "- battery_type (String),\n",
    "- filter_frequency (float).\n",
    "\n",
    "Create a list with the name __component_details__ (case sensitive) containing the variables listed above. The order of the list entries should be:\n",
    "\n",
    "    [resistance, number_of_resistors, led_colour, number_of_leds, number_of_min_pots, number_of_max_pots, number_of_jumpers_needed, battery_voltage, battery_charge_type, battery_type, filter_frequency]."
   ]
  },
  {
   "cell_type": "markdown",
   "metadata": {
    "id": "K1gCeSfGPxpE"
   },
   "source": [
    "### Question 2: Dictionary Operations <a id=\"q_2_2\"></a>\n",
    "\n",
    "#### Q 2.1.: Resistor Availability Check (1 mark)\n",
    "\n",
    "Check whether the requested resistor value is available in the inventory and store the boolean result in the appropriate variable.\n",
    "\n",
    "#### Q 2.2: LED Availability Check (5 marks)\n",
    "\n",
    "Determine the number of LEDs required by the student. Next, determine the number of LEDs that are available in the inventory. Finally, check whether there are enough LEDs. \n",
    "\n",
    "For this question, please use the following variable names for their prescribed goals:\n",
    "\n",
    "- __number_of_leds_needed__: Describes how many LEDs the student requires for the given colour.\n",
    "\n",
    "- __desired_led_colour__: A boolean operator checking whether the colour of the LEDs required by the student is in the inventory.\n",
    "\n",
    "- __max_available__: Describes the number of LEDs that are available for the given colour.\n",
    "\n",
    "- __enough_LEDs__: A boolean operator checking whether there are enough LEDs in the given colour in the inventory.\n",
    "\n",
    "Hint: Check for case mismatches (use .lower()).\n",
    "\n",
    "#### Q 2.3: Maximum and Minimum Potentiometer Values (4 marks)\n",
    "\n",
    "Determine the minimum and maximum potentiometer values available from the inventory. Assume the values are stored in $\\Omega$ and return the values as integers.\n",
    "\n",
    "#### Q 2.4.: Jumper wires arithmetic (2 marks)\n",
    "\n",
    "Check whether there are enough jumper wires available for the student and calculate the number of wires left in the component bank after the student’s requested number of wires are allocated.\n",
    "\n",
    "#### Q 2.5: Battery (4 marks)\n",
    "\n",
    "Extract the specifications of the battery and test whether they meet the requirements posed by the student (see the email). \n",
    "\n",
    "Hint: use .upper() or .lower() to remove case sensitivity when comparing strings.\n",
    "\n",
    "#### Q 2.6: High-Pass RL Filter (5 marks)\n",
    "\n",
    "The equation below shows how the inductance value for a given cut-off frequency and resistor value of a passive high-pass RL filter is determined. Use this equation to determine the inductor value required for a given cutoff frequency using the minimum available resistor value in the inventory. \n",
    "\n",
    "\\begin{equation}\n",
    "    L = \\frac{R}{2 \\pi f}\n",
    "\\end{equation}\n",
    "\n",
    "Create a variable and store the resistance (in $\\Omega$) of the minimum available resistor. Create another variable and store the inductor value (in $\\mu$H), accurate to two decimal places in the variable. Assume $\\pi$ has a value of 3.14. Check if the calculated inductor value is within the range of capacitor values in the inventory.\n"
   ]
  },
  {
   "cell_type": "markdown",
   "metadata": {
    "id": "ifThkJWwPxpE"
   },
   "source": [
    "### Question 3: Draft Response Email (6 marks) <a id=\"q_2_3\"></a>\n",
    "\n",
    "Draft a response email to the student to have the exact formatting for each line as shown below. Replace the values in square brackets with the variables in the assessment. \n",
    "\n",
    "**line_1**: To: u[student number]@tuks.co.za\n",
    "\n",
    "**line_2**: From:  inventory.manager@up.ac.za\n",
    "\n",
    "**line_3**: Dear [student name] [student surname],\n",
    "\n",
    "**line_4**: As requested, I have also calculated the inductor value required for your RL high-pass setup. When using the smallest available resistor ([minimum resistance resistor] $\\Omega$), you should use an inductor with an inductance of approximately [inductor val] $\\mu$H. [Inductor availability string]\n",
    "\n",
    "**line_5**: The following components will be made available to you:\n",
    "\n",
    "**line_6**: [no. resistors]x [resistor value] $\\Omega$ resistors,\n",
    "\n",
    "**line_7**: [no. LEDs]x [LED colour] LEDs,\n",
    "\n",
    "**line_8**: [no. min_pots]x [minimum resistance potentiometer] $\\Omega$ potentiometers,\n",
    "\n",
    "**line_9**: [no. max_pots]x [maximum resistance potentiometer] $\\Omega$ potentiometers,\n",
    "\n",
    "**line_10**: [no. jumpers]x Jumper wires,\n",
    "\n",
    "**line_11**: 1x [minimum resistance resistor] $\\Omega$ resistor,\n",
    "\n",
    "**line_12**: [Battery availability string]\n",
    "\n",
    "**line_13**: Best of luck with your practical assignment.\n",
    "\n",
    "**line_14**: Kind regards,\n",
    "\n",
    "**line_15**: Inventory Manager\n",
    " \n",
    "Hint: The unicode characters for $\\Omega$ and $\\mu$, respectively, are: ```\\u03A9``` and ```\\u03BC```."
   ]
  },
  {
   "cell_type": "code",
   "execution_count": null,
   "metadata": {
    "id": "fskhy7nvPxpE"
   },
   "outputs": [],
   "source": []
  }
 ],
 "metadata": {
  "colab": {
   "name": "2020EMR101_Section1_Assignment.ipynb",
   "provenance": []
  },
  "kernelspec": {
   "display_name": "Python 3",
   "language": "python",
   "name": "python3"
  },
  "language_info": {
   "codemirror_mode": {
    "name": "ipython",
    "version": 3
   },
   "file_extension": ".py",
   "mimetype": "text/x-python",
   "name": "python",
   "nbconvert_exporter": "python",
   "pygments_lexer": "ipython3",
   "version": "3.8.8"
  }
 },
 "nbformat": 4,
 "nbformat_minor": 1
}
